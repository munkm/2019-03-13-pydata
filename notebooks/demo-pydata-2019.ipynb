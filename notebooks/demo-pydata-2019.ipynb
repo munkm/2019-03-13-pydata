{
 "cells": [
  {
   "cell_type": "code",
   "execution_count": null,
   "metadata": {},
   "outputs": [],
   "source": [
    "import numpy as np\n",
    "import widgyts\n",
    "import ipydatawidgets\n",
    "import ipywidgets\n",
    "import traitlets\n",
    "from IPython.display import DisplayObject, display\n",
    "import yt\n",
    "import h5py"
   ]
  },
  {
   "cell_type": "markdown",
   "metadata": {},
   "source": [
    "First we'll load IsolatedGalaxy, one of the datasets that is used throughout yt's documentation. "
   ]
  },
  {
   "cell_type": "code",
   "execution_count": null,
   "metadata": {},
   "outputs": [],
   "source": [
    "ds = yt.load(\"/Users/madicken/repos/talks/2019-03-13-pydata/notebooks/data/IsolatedGalaxy/galaxy0030/galaxy0030\")"
   ]
  },
  {
   "cell_type": "markdown",
   "metadata": {},
   "source": [
    "### Using Jupyter Widgets out-of-the-box With yt"
   ]
  },
  {
   "cell_type": "code",
   "execution_count": null,
   "metadata": {},
   "outputs": [],
   "source": [
    "ds = yt.load(\"/Users/madicken/repos/talks/2019-03-13-pydata/notebooks/data/IsolatedGalaxy/galaxy0030/galaxy0030\")\n",
    "class State(traitlets.HasTraits):\n",
    "    sl = traitlets.Instance(yt.data_objects.selection_data_containers.YTSlice)\n",
    "    im = traitlets.Instance(ipywidgets.Image)\n",
    "    width = traitlets.Float(1.0)\n",
    "    center_x = traitlets.Float(0.5)\n",
    "    center_y = traitlets.Float(0.5)\n",
    "    frb = traitlets.Instance(yt.FixedResolutionBuffer)\n",
    "    \n",
    "    @traitlets.observe('center_x', 'center_y')\n",
    "    def on_change_center(self, event):\n",
    "        self.frb = self.sl.to_frb(self.width, (512, 512), center=(self.center_x, self.center_y))\n",
    "        \n",
    "    @traitlets.observe('width')\n",
    "    def on_change_width(self, event):\n",
    "        self.frb = self.sl.to_frb(self.width, (512, 512), center=(self.center_x, self.center_y))\n",
    "    \n",
    "    @traitlets.observe('frb')\n",
    "    def on_change_frb(self, event):\n",
    "        self.im.value = yt.write_bitmap(yt.write_image(np.log10(self.frb[\"density\"]), None), None)\n",
    "        \n",
    "# ds = yt.load(\"IsolatedGalaxy/galaxy0030/galaxy0030\")\n",
    "im = ipywidgets.Image(width = 512, height = 512)\n",
    "s = State(sl = ds.r[:,:,0.5], im = im)\n",
    "width_slider = ipywidgets.FloatSlider(min=0.0, max=1.0, value=1.0, step=0.001)\n",
    "center_x_slider = ipywidgets.FloatSlider(min=0.0, max=1.0, value=0.5, step=0.001)\n",
    "center_y_slider = ipywidgets.FloatSlider(min=0.0, max=1.0, value=0.5, step=0.001)\n",
    "traitlets.link((width_slider, 'value'), (s, 'width'))\n",
    "traitlets.link((center_x_slider, 'value'), (s, 'center_x'))\n",
    "traitlets.link((center_y_slider, 'value'), (s, 'center_y'))\n",
    "\n",
    "display(ipywidgets.VBox([im, width_slider, center_x_slider, center_y_slider]))"
   ]
  },
  {
   "cell_type": "markdown",
   "metadata": {},
   "source": [
    "### Using widgyts on the same dataset"
   ]
  },
  {
   "cell_type": "code",
   "execution_count": null,
   "metadata": {},
   "outputs": [],
   "source": [
    "s = ds.r[:,:,0.5]\n",
    "frb = widgyts.FRBViewer(height = 1024, width = 1024,\n",
    "                            px = s[\"px\"], py = s[\"py\"], pdx = s[\"pdx\"], pdy = s[\"pdy\"],\n",
    "                            val = s[\"density\"], layout=ipywidgets.Layout(width = '500px', height='500px'))\n",
    "controls = frb.setup_controls()\n",
    "display(ipywidgets.HBox([controls,frb]))"
   ]
  },
  {
   "cell_type": "markdown",
   "metadata": {},
   "source": [
    "### Slice from Pop II prime through the densest location "
   ]
  },
  {
   "cell_type": "code",
   "execution_count": null,
   "metadata": {},
   "outputs": [],
   "source": [
    "with h5py.File(\"/Users/madicken/repos/talks/2019-03-13-pydata/notebooks/data/DD0182_slice.h5\", \"r\") as f:\n",
    "    s = {}\n",
    "    for field in (\"px\", \"py\", \"pdx\", \"pdy\", \"density\", \"temperature\"):\n",
    "        print(\"Reading \", field)\n",
    "        s[field] = f[field][:]\n",
    "frb_dens = widgyts.FRBViewer(height = 512, width = 512,\n",
    "                            px = s[\"px\"], py = s[\"py\"], pdx = s[\"pdx\"], pdy = s[\"pdy\"],\n",
    "                            val = s[\"density\"],\n",
    "                            layout = ipywidgets.Layout(width = '500px', height='500px'))\n",
    "controls = frb_dens.setup_controls()\n",
    "display(ipywidgets.HBox([controls,frb_dens]))"
   ]
  },
  {
   "cell_type": "markdown",
   "metadata": {},
   "source": [
    "#### We can also link our widget traitlets to explore multiple fields at the same time. "
   ]
  },
  {
   "cell_type": "markdown",
   "metadata": {},
   "source": [
    "first let's add another zoom widget with a log scale. "
   ]
  },
  {
   "cell_type": "code",
   "execution_count": null,
   "metadata": {},
   "outputs": [],
   "source": [
    "frb_dens.colormaps.is_log = True\n",
    "width_slider = ipywidgets.FloatLogSlider(value = 0.0, max = 0.0, min = np.log10(512 * s[\"pdx\"].min()), base = 10)\n",
    "\n",
    "width_slider.value = 1.0\n",
    "def on_changed(event):\n",
    "    frb_dens.view_width = (event['new'], event['new'])\n",
    "width_slider.observe(on_changed, 'value', 'change')\n",
    "width_slider"
   ]
  },
  {
   "cell_type": "code",
   "execution_count": null,
   "metadata": {},
   "outputs": [],
   "source": [
    "frb_temp = widgyts.FRBViewer(height = 512, width = 512,\n",
    "                            px = s[\"px\"], py = s[\"py\"], pdx = s[\"pdx\"], pdy = s[\"pdy\"],\n",
    "                            val = s[\"temperature\"], layout=ipywidgets.Layout(width = '500px', height='500px'))\n",
    "ipywidgets.link((frb_dens, 'view_center'), (frb_temp, 'view_center'))\n",
    "ipywidgets.link((frb_dens, 'view_width'), (frb_temp, 'view_width'))\n",
    "ipywidgets.link((frb_dens.colormaps, 'is_log'), (frb_temp.colormaps, 'is_log'))\n",
    "display(ipywidgets.VBox([width_slider,ipywidgets.HBox([controls,frb_dens, frb_temp])]))\n",
    "\n",
    "frb_temp.colormaps.map_name='inferno'\n",
    "frb_temp.colormaps.min_val=5.874986614501054\n",
    "frb_temp.colormaps.max_val=15653.545441919285"
   ]
  },
  {
   "cell_type": "markdown",
   "metadata": {},
   "source": [
    "#### We can also access the temperature field properties through the traitlets. "
   ]
  },
  {
   "cell_type": "code",
   "execution_count": null,
   "metadata": {},
   "outputs": [],
   "source": [
    "frb_temp.colormaps.map_name='doom'"
   ]
  },
  {
   "cell_type": "markdown",
   "metadata": {},
   "source": [
    "### Projection of Pop II prime dataset"
   ]
  },
  {
   "cell_type": "code",
   "execution_count": null,
   "metadata": {},
   "outputs": [],
   "source": [
    "with h5py.File(\"/Users/madicken/repos/talks/2019-03-13-pydata/notebooks/data/DD0182_proj.h5\", \"r\") as f:\n",
    "    s = {}\n",
    "    for field in (\"px\", \"py\", \"pdx\", \"pdy\", \"density\", \"temperature\"):\n",
    "        s[field] = f[field][:]\n",
    "\n",
    "# putting the fields into two different FRB views\n",
    "frb_projd = widgyts.FRBViewer(height = 512, width = 512,\n",
    "                            px = s[\"px\"], py = s[\"py\"], pdx = s[\"pdx\"], pdy = s[\"pdy\"],\n",
    "                            val = s[\"density\"], layout=ipywidgets.Layout(width = '500px', height='500px'))\n",
    "frb_projt = widgyts.FRBViewer(height = 512, width = 512,\n",
    "                            px = s[\"px\"], py = s[\"py\"], pdx = s[\"pdx\"], pdy = s[\"pdy\"],\n",
    "                            val = s[\"temperature\"], layout=ipywidgets.Layout(width = '500px', height='500px'))\n",
    "\n",
    "# linking the views so their windows are aligned\n",
    "ipywidgets.link((frb_projd, 'view_center'), (frb_projt, 'view_center'))\n",
    "ipywidgets.link((frb_projd, 'view_width'), (frb_projt, 'view_width'))\n",
    "ipywidgets.link((frb_projd.colormaps, 'is_log'), (frb_projt.colormaps, 'is_log'))\n",
    "\n",
    "#adding in the log slider \n",
    "width_slider2 = ipywidgets.FloatLogSlider(value = 0.0, max = 0.0, min = np.log10(512 * s[\"pdx\"].min()), base = 10)\n",
    "width_slider2.value = 1.0\n",
    "def on_changed(event):\n",
    "    frb_projd.view_width = (event['new'], event['new'])\n",
    "width_slider2.observe(on_changed, 'value', 'change')\n",
    "\n",
    "#adding in the controls\n",
    "controls = frb_projd.setup_controls()\n",
    "display(ipywidgets.VBox([width_slider2,ipywidgets.HBox([controls,frb_projd, frb_projt])]))\n",
    "\n",
    "# setting bounds of the temperature plot\n",
    "frb_projt.colormaps.map_name='inferno'\n",
    "frb_projt.colormaps.min_val=8.5\n",
    "frb_projt.colormaps.max_val=1283\n",
    "\n",
    "# setting the log scale\n",
    "frb_projd.colormaps.is_log = True\n",
    "frb_projd.colormaps.max_val = 1e-24"
   ]
  },
  {
   "cell_type": "code",
   "execution_count": null,
   "metadata": {},
   "outputs": [],
   "source": [
    "frb_projt.colormaps.map_name='inferno'"
   ]
  },
  {
   "cell_type": "code",
   "execution_count": null,
   "metadata": {},
   "outputs": [],
   "source": []
  }
 ],
 "metadata": {
  "kernelspec": {
   "display_name": "Python 3",
   "language": "python",
   "name": "python3"
  },
  "language_info": {
   "codemirror_mode": {
    "name": "ipython",
    "version": 3
   },
   "file_extension": ".py",
   "mimetype": "text/x-python",
   "name": "python",
   "nbconvert_exporter": "python",
   "pygments_lexer": "ipython3",
   "version": "3.6.5"
  }
 },
 "nbformat": 4,
 "nbformat_minor": 2
}
